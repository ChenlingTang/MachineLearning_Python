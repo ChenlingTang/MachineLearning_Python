{
 "cells": [
  {
   "cell_type": "markdown",
   "metadata": {},
   "source": [
    "（一）利用递归方法求n!"
   ]
  },
  {
   "cell_type": "code",
   "execution_count": 18,
   "metadata": {},
   "outputs": [
    {
     "name": "stdout",
     "output_type": "stream",
     "text": [
      "N!: 5\n",
      "the result is: 120\n"
     ]
    }
   ],
   "source": [
    "i = int(input('N!: '))\n",
    "\n",
    "sum = i\n",
    "\n",
    "while i > 2:\n",
    "    sum *= (i-1)\n",
    "    i -= 1\n",
    "\n",
    "print('the result is:',sum)"
   ]
  },
  {
   "cell_type": "code",
   "execution_count": 26,
   "metadata": {},
   "outputs": [
    {
     "name": "stdout",
     "output_type": "stream",
     "text": [
      "Ni:6\n",
      "0!=0\n",
      "1!=1\n",
      "2!=2\n",
      "3!=6\n",
      "4!=24\n",
      "5!=120\n"
     ]
    }
   ],
   "source": [
    "def tang(i):\n",
    "    sum = int(i)\n",
    "    while i > 2:\n",
    "        sum *= (i-1)\n",
    "        i -= 1\n",
    "    return sum\n",
    "\n",
    "for i in range(int(input('Ni:'))):\n",
    "    print('%d!=%d' % (i,tang(i)))"
   ]
  },
  {
   "cell_type": "markdown",
   "metadata": {},
   "source": [
    "（二）利用递归函数调用方式，将所输入的5个字符，以相反顺序打印出来"
   ]
  },
  {
   "cell_type": "code",
   "execution_count": 36,
   "metadata": {},
   "outputs": [
    {
     "name": "stdout",
     "output_type": "stream",
     "text": [
      "type a string: qwert\n",
      "t\n",
      "r\n",
      "e\n",
      "w\n",
      "q\n"
     ]
    }
   ],
   "source": [
    "s = input('type a string: ')\n",
    "\n",
    "sl = len(s)\n",
    "\n",
    "for i in range(sl):\n",
    "    print(s[(sl-1) - i])"
   ]
  },
  {
   "cell_type": "code",
   "execution_count": 28,
   "metadata": {},
   "outputs": [
    {
     "ename": "NameError",
     "evalue": "name 'split' is not defined",
     "output_type": "error",
     "traceback": [
      "\u001b[1;31m---------------------------------------------------------------------------\u001b[0m",
      "\u001b[1;31mNameError\u001b[0m                                 Traceback (most recent call last)",
      "\u001b[1;32m<ipython-input-28-7f732a21e98e>\u001b[0m in \u001b[0;36m<module>\u001b[1;34m()\u001b[0m\n\u001b[1;32m----> 1\u001b[1;33m \u001b[0mhelp\u001b[0m\u001b[1;33m(\u001b[0m\u001b[0msplit\u001b[0m\u001b[1;33m)\u001b[0m\u001b[1;33m\u001b[0m\u001b[0m\n\u001b[0m",
      "\u001b[1;31mNameError\u001b[0m: name 'split' is not defined"
     ]
    }
   ],
   "source": [
    "## SA\n",
    "def output(s,l):\n",
    "    if l == 0:\n",
    "        return\n",
    "    print (s[l-1])\n",
    "    output(s,l-1)\n",
    "s = input('输入一个串')\n",
    "l = len(s)\n",
    "output(s,l)"
   ]
  },
  {
   "cell_type": "markdown",
   "metadata": {},
   "source": [
    "（三）按逗号分隔列表"
   ]
  },
  {
   "cell_type": "code",
   "execution_count": 14,
   "metadata": {},
   "outputs": [
    {
     "name": "stdout",
     "output_type": "stream",
     "text": [
      "a,b,c,d\n"
     ]
    },
    {
     "data": {
      "text/plain": [
       "'a,b,c,d'"
      ]
     },
     "execution_count": 14,
     "metadata": {},
     "output_type": "execute_result"
    }
   ],
   "source": [
    "l = ['a','b','c','d']\n",
    "\n",
    "print(s)\n",
    "\n",
    "s =  ','.join(n for n in l)\n",
    "s"
   ]
  },
  {
   "cell_type": "markdown",
   "metadata": {},
   "source": [
    "（四）将一个数组逆序输出"
   ]
  },
  {
   "cell_type": "code",
   "execution_count": 27,
   "metadata": {},
   "outputs": [
    {
     "data": {
      "text/plain": [
       "[4, 79, 66, 5, 4, 2]"
      ]
     },
     "execution_count": 27,
     "metadata": {},
     "output_type": "execute_result"
    }
   ],
   "source": [
    "A = [1,2,4,5,66,79,4]\n",
    "b =[]\n",
    "\n",
    "def array_rev(a):\n",
    "    for i in range(len(a)-1):\n",
    "        b.append(a[len(a)-1-i])\n",
    "    return b\n",
    "\n",
    "array_rev(A)"
   ]
  },
  {
   "cell_type": "code",
   "execution_count": null,
   "metadata": {},
   "outputs": [],
   "source": [
    "##sa\n",
    "a = [5,7,8,5,9,1]\n",
    "N = len(a)\n",
    "print (a)\n",
    "for i in range(int(len(a)/2)):\n",
    "    a[i],a[N-1-i] = a[N-1-i],a[i]\n",
    "print (a)"
   ]
  },
  {
   "cell_type": "markdown",
   "metadata": {},
   "source": [
    "（五）两个 3 行 3 列的矩阵，实现其对应位置的数据相加，并返回一个新矩阵"
   ]
  },
  {
   "cell_type": "code",
   "execution_count": 34,
   "metadata": {},
   "outputs": [
    {
     "data": {
      "text/plain": [
       "[[11, 4, 6], [8, 55, 12], [14, 16, 99]]"
      ]
     },
     "execution_count": 34,
     "metadata": {},
     "output_type": "execute_result"
    }
   ],
   "source": [
    "X = [[1,2,3],\n",
    "     [4,5,6],\n",
    "     [7,8,9]\n",
    "    ]\n",
    "\n",
    "Y = [[10,2,3],\n",
    "     [4,50,6],\n",
    "     [7,8,90]\n",
    "    ]\n",
    "\n",
    "Z = [[10,2,3],\n",
    "     [4,50,6],\n",
    "     [7,8,90]\n",
    "    ]\n",
    "\n",
    "for i in range(3):\n",
    "    for j in range(3):\n",
    "        Z[i][j] = X[i][j] + Y[i][j]\n",
    "\n",
    "Z"
   ]
  },
  {
   "cell_type": "markdown",
   "metadata": {},
   "source": [
    "（六）匿名函数求和"
   ]
  },
  {
   "cell_type": "code",
   "execution_count": 36,
   "metadata": {},
   "outputs": [
    {
     "name": "stdout",
     "output_type": "stream",
     "text": [
      "3\n"
     ]
    }
   ],
   "source": [
    "sum_value = lambda x,y:x+y\n",
    "print (sum_value(1,2))"
   ]
  },
  {
   "cell_type": "markdown",
   "metadata": {},
   "source": [
    "（七）查找字符串的位置"
   ]
  },
  {
   "cell_type": "code",
   "execution_count": 38,
   "metadata": {},
   "outputs": [
    {
     "data": {
      "text/plain": [
       "1"
      ]
     },
     "execution_count": 38,
     "metadata": {},
     "output_type": "execute_result"
    }
   ],
   "source": [
    "a = 'afdfasgwegfbsdf'\n",
    "\n",
    "a.find('f')"
   ]
  },
  {
   "cell_type": "markdown",
   "metadata": {},
   "source": [
    "（八）在字典中找到年龄最大的人，并输出"
   ]
  },
  {
   "cell_type": "code",
   "execution_count": 44,
   "metadata": {},
   "outputs": [
    {
     "name": "stdout",
     "output_type": "stream",
     "text": [
      "zhangsan 45\n"
     ]
    }
   ],
   "source": [
    "people = {'laowang':40,'tangyudi':30,'zhangsan':45}\n",
    "\n",
    "for i in people.keys():\n",
    "    if people.get(i) == max(people.values()):\n",
    "        print(i,people.get(i))"
   ]
  },
  {
   "cell_type": "code",
   "execution_count": null,
   "metadata": {},
   "outputs": [],
   "source": [
    "people = {'laowang':40,'tangyudi':30,'zhangsan':45}\n",
    "m = 'tangyudi'\n",
    "for key in people.keys():\n",
    "    if people[m] < people[key]:\n",
    "        m = key\n",
    "print (m,people[m])\n",
    "        "
   ]
  },
  {
   "cell_type": "markdown",
   "metadata": {},
   "source": [
    "（九）列表转换为字典"
   ]
  },
  {
   "cell_type": "code",
   "execution_count": 47,
   "metadata": {},
   "outputs": [
    {
     "ename": "ValueError",
     "evalue": "dictionary update sequence element #1 has length 3; 2 is required",
     "output_type": "error",
     "traceback": [
      "\u001b[1;31m---------------------------------------------------------------------------\u001b[0m",
      "\u001b[1;31mValueError\u001b[0m                                Traceback (most recent call last)",
      "\u001b[1;32m<ipython-input-47-a1b960818e05>\u001b[0m in \u001b[0;36m<module>\u001b[1;34m()\u001b[0m\n\u001b[0;32m      2\u001b[0m \u001b[0mv\u001b[0m \u001b[1;33m=\u001b[0m \u001b[1;33m[\u001b[0m\u001b[1;36m123\u001b[0m\u001b[1;33m,\u001b[0m\u001b[1;36m456\u001b[0m\u001b[1;33m,\u001b[0m\u001b[1;36m11\u001b[0m\u001b[1;33m]\u001b[0m\u001b[1;33m\u001b[0m\u001b[0m\n\u001b[0;32m      3\u001b[0m \u001b[1;33m\u001b[0m\u001b[0m\n\u001b[1;32m----> 4\u001b[1;33m \u001b[0mprint\u001b[0m \u001b[1;33m(\u001b[0m\u001b[0mdict\u001b[0m\u001b[1;33m(\u001b[0m\u001b[1;33m[\u001b[0m\u001b[0mk\u001b[0m\u001b[1;33m,\u001b[0m\u001b[0mv\u001b[0m\u001b[1;33m]\u001b[0m\u001b[1;33m)\u001b[0m\u001b[1;33m)\u001b[0m\u001b[1;33m\u001b[0m\u001b[0m\n\u001b[0m",
      "\u001b[1;31mValueError\u001b[0m: dictionary update sequence element #1 has length 3; 2 is required"
     ]
    }
   ],
   "source": [
    "k = ['tang','yudi']\n",
    "v = [123,456]\n",
    "\n",
    "print (dict([k,v]))"
   ]
  },
  {
   "cell_type": "markdown",
   "metadata": {},
   "source": [
    "（十）从键盘输入一个字符串，将小写字母全部转换成大写字母，然后输出到一个磁盘文件\"test\"中保存"
   ]
  },
  {
   "cell_type": "code",
   "execution_count": 54,
   "metadata": {},
   "outputs": [
    {
     "name": "stdout",
     "output_type": "stream",
     "text": [
      "type a stringdfsdafAAfff\n"
     ]
    }
   ],
   "source": [
    "T = open('./test.txt','w')\n",
    "\n",
    "l = str(input('type a string'))\n",
    "\n",
    "l_u = l.upper()\n",
    "\n",
    "T.write(l_u)\n",
    "\n",
    "T.close()"
   ]
  }
 ],
 "metadata": {
  "kernelspec": {
   "display_name": "Python 3",
   "language": "python",
   "name": "python3"
  },
  "language_info": {
   "codemirror_mode": {
    "name": "ipython",
    "version": 3
   },
   "file_extension": ".py",
   "mimetype": "text/x-python",
   "name": "python",
   "nbconvert_exporter": "python",
   "pygments_lexer": "ipython3",
   "version": "3.7.0"
  }
 },
 "nbformat": 4,
 "nbformat_minor": 2
}
