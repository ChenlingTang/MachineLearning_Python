{
 "cells": [
  {
   "cell_type": "markdown",
   "metadata": {},
   "source": [
    "（一）利用递归方法求n!"
   ]
  },
  {
   "cell_type": "code",
   "execution_count": 18,
   "metadata": {},
   "outputs": [
    {
     "name": "stdout",
     "output_type": "stream",
     "text": [
      "N!: 5\n",
      "the result is: 120\n"
     ]
    }
   ],
   "source": [
    "i = int(input('N!: '))\n",
    "\n",
    "sum = i\n",
    "\n",
    "while i > 2:\n",
    "    sum *= (i-1)\n",
    "    i -= 1\n",
    "\n",
    "print('the result is:',sum)"
   ]
  },
  {
   "cell_type": "code",
   "execution_count": 26,
   "metadata": {},
   "outputs": [
    {
     "name": "stdout",
     "output_type": "stream",
     "text": [
      "Ni:6\n",
      "0!=0\n",
      "1!=1\n",
      "2!=2\n",
      "3!=6\n",
      "4!=24\n",
      "5!=120\n"
     ]
    }
   ],
   "source": [
    "def tang(i):\n",
    "    sum = int(i)\n",
    "    while i > 2:\n",
    "        sum *= (i-1)\n",
    "        i -= 1\n",
    "    return sum\n",
    "\n",
    "for i in range(int(input('Ni:'))):\n",
    "    print('%d!=%d' % (i,tang(i)))"
   ]
  },
  {
   "cell_type": "markdown",
   "metadata": {},
   "source": [
    "（二）利用递归函数调用方式，将所输入的5个字符，以相反顺序打印出来"
   ]
  },
  {
   "cell_type": "code",
   "execution_count": 36,
   "metadata": {},
   "outputs": [
    {
     "name": "stdout",
     "output_type": "stream",
     "text": [
      "type a string: qwert\n",
      "t\n",
      "r\n",
      "e\n",
      "w\n",
      "q\n"
     ]
    }
   ],
   "source": [
    "s = input('type a string: ')\n",
    "\n",
    "sl = len(s)\n",
    "\n",
    "for i in range(sl):\n",
    "    print(s[(sl-1) - i])"
   ]
  },
  {
   "cell_type": "code",
   "execution_count": 28,
   "metadata": {},
   "outputs": [
    {
     "ename": "NameError",
     "evalue": "name 'split' is not defined",
     "output_type": "error",
     "traceback": [
      "\u001b[1;31m---------------------------------------------------------------------------\u001b[0m",
      "\u001b[1;31mNameError\u001b[0m                                 Traceback (most recent call last)",
      "\u001b[1;32m<ipython-input-28-7f732a21e98e>\u001b[0m in \u001b[0;36m<module>\u001b[1;34m()\u001b[0m\n\u001b[1;32m----> 1\u001b[1;33m \u001b[0mhelp\u001b[0m\u001b[1;33m(\u001b[0m\u001b[0msplit\u001b[0m\u001b[1;33m)\u001b[0m\u001b[1;33m\u001b[0m\u001b[0m\n\u001b[0m",
      "\u001b[1;31mNameError\u001b[0m: name 'split' is not defined"
     ]
    }
   ],
   "source": [
    "## SA\n",
    "def output(s,l):\n",
    "    if l == 0:\n",
    "        return\n",
    "    print (s[l-1])\n",
    "    output(s,l-1)\n",
    "s = input('输入一个串')\n",
    "l = len(s)\n",
    "output(s,l)"
   ]
  },
  {
   "cell_type": "markdown",
   "metadata": {},
   "source": [
    "（三）按逗号分隔列表"
   ]
  },
  {
   "cell_type": "markdown",
   "metadata": {},
   "source": [
    "（四）将一个数组逆序输出"
   ]
  },
  {
   "cell_type": "markdown",
   "metadata": {},
   "source": [
    "（五）两个 3 行 3 列的矩阵，实现其对应位置的数据相加，并返回一个新矩阵"
   ]
  },
  {
   "cell_type": "markdown",
   "metadata": {},
   "source": [
    "（六）匿名函数求和"
   ]
  },
  {
   "cell_type": "markdown",
   "metadata": {},
   "source": [
    "（七）查找字符串的位置"
   ]
  },
  {
   "cell_type": "markdown",
   "metadata": {},
   "source": [
    "（八）在字典中找到年龄最大的人，并输出"
   ]
  },
  {
   "cell_type": "markdown",
   "metadata": {},
   "source": [
    "（九）列表转换为字典"
   ]
  },
  {
   "cell_type": "markdown",
   "metadata": {},
   "source": [
    "（十）从键盘输入一个字符串，将小写字母全部转换成大写字母，然后输出到一个磁盘文件\"test\"中保存"
   ]
  },
  {
   "cell_type": "code",
   "execution_count": null,
   "metadata": {},
   "outputs": [],
   "source": []
  },
  {
   "cell_type": "code",
   "execution_count": null,
   "metadata": {},
   "outputs": [],
   "source": []
  }
 ],
 "metadata": {
  "kernelspec": {
   "display_name": "Python 3",
   "language": "python",
   "name": "python3"
  },
  "language_info": {
   "codemirror_mode": {
    "name": "ipython",
    "version": 3
   },
   "file_extension": ".py",
   "mimetype": "text/x-python",
   "name": "python",
   "nbconvert_exporter": "python",
   "pygments_lexer": "ipython3",
   "version": "3.7.0"
  }
 },
 "nbformat": 4,
 "nbformat_minor": 2
}
