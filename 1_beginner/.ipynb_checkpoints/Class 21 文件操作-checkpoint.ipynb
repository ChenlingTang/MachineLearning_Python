{
 "cells": [
  {
   "cell_type": "markdown",
   "metadata": {},
   "source": [
    "### Wirte file and read lines"
   ]
  },
  {
   "cell_type": "code",
   "execution_count": 2,
   "metadata": {},
   "outputs": [
    {
     "name": "stdout",
     "output_type": "stream",
     "text": [
      "Writing T.txt\n"
     ]
    }
   ],
   "source": [
    "%%writefile T.txt\n",
    "TTTT\n",
    "111\n",
    "222"
   ]
  },
  {
   "cell_type": "code",
   "execution_count": 18,
   "metadata": {},
   "outputs": [],
   "source": [
    "T = open('./T.txt')"
   ]
  },
  {
   "cell_type": "code",
   "execution_count": 13,
   "metadata": {},
   "outputs": [
    {
     "name": "stdout",
     "output_type": "stream",
     "text": [
      "TTTT\n",
      "111\n",
      "222\n"
     ]
    }
   ],
   "source": [
    "TT = T.read()\n",
    "print(TT)"
   ]
  },
  {
   "cell_type": "code",
   "execution_count": 19,
   "metadata": {},
   "outputs": [
    {
     "name": "stdout",
     "output_type": "stream",
     "text": [
      "<class 'list'>\n"
     ]
    }
   ],
   "source": [
    "TTT = T.readlines()\n",
    "\n",
    "print(type(TTT))"
   ]
  },
  {
   "cell_type": "code",
   "execution_count": 20,
   "metadata": {},
   "outputs": [
    {
     "name": "stdout",
     "output_type": "stream",
     "text": [
      "Current line: TTTT\n",
      "\n",
      "Current line: 111\n",
      "\n",
      "Current line: 222\n"
     ]
    }
   ],
   "source": [
    "for line in TTT:\n",
    "    print('Current line:',line)"
   ]
  },
  {
   "cell_type": "code",
   "execution_count": 17,
   "metadata": {},
   "outputs": [],
   "source": [
    "T.close()"
   ]
  },
  {
   "cell_type": "code",
   "execution_count": 41,
   "metadata": {},
   "outputs": [],
   "source": [
    "## open and write file \n",
    "## 'w' wirte, the old text would be covered\n",
    "\n",
    "txt = open('TTT_2.txt','w')\n",
    "txt.write('asdfg\\n')\n",
    "txt.write('123\\n')\n",
    "txt.close()\n"
   ]
  },
  {
   "cell_type": "code",
   "execution_count": 44,
   "metadata": {},
   "outputs": [
    {
     "name": "stdout",
     "output_type": "stream",
     "text": [
      "<_io.TextIOWrapper name='TTT_2.txt' mode='a' encoding='cp936'>\n"
     ]
    }
   ],
   "source": [
    "## 'a', additional, add to the end\n",
    "txt = open('TTT_2.txt','a')\n",
    "txt.write(\"aaaaa\\n\")\n",
    "txt.write('bbbb')\n",
    "\n",
    "print(txt)"
   ]
  },
  {
   "cell_type": "code",
   "execution_count": null,
   "metadata": {},
   "outputs": [],
   "source": [
    "### open + close \n",
    "\n",
    "txt = open('tang_write.txt','w')\n",
    "try:\n",
    "    for i in range(100):\n",
    "        10/(i-50)\n",
    "        txt.write(str(i)+'\\n')\n",
    "except Exception:\n",
    "    print ('error:',i)\n",
    "finally:\n",
    "    txt.close()"
   ]
  },
  {
   "cell_type": "code",
   "execution_count": null,
   "metadata": {},
   "outputs": [],
   "source": [
    "## with = open + close\n",
    "\n",
    "with open('tang_write.txt','w') as f:\n",
    "    f.write('jin tian tian qi bu cuo')"
   ]
  },
  {
   "cell_type": "code",
   "execution_count": null,
   "metadata": {},
   "outputs": [],
   "source": []
  },
  {
   "cell_type": "code",
   "execution_count": null,
   "metadata": {},
   "outputs": [],
   "source": []
  }
 ],
 "metadata": {
  "kernelspec": {
   "display_name": "Python 3",
   "language": "python",
   "name": "python3"
  },
  "language_info": {
   "codemirror_mode": {
    "name": "ipython",
    "version": 3
   },
   "file_extension": ".py",
   "mimetype": "text/x-python",
   "name": "python",
   "nbconvert_exporter": "python",
   "pygments_lexer": "ipython3",
   "version": "3.7.0"
  }
 },
 "nbformat": 4,
 "nbformat_minor": 2
}
