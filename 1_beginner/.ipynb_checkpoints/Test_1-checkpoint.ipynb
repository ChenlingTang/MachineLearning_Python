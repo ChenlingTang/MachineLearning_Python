{
 "cells": [
  {
   "cell_type": "markdown",
   "metadata": {},
   "source": [
    "## Python exam"
   ]
  },
  {
   "cell_type": "markdown",
   "metadata": {},
   "source": [
    "（一）有四个数字：1、2、3、4，能组成多少个互不相同且无重复数字的三位数？各是多少？"
   ]
  },
  {
   "cell_type": "code",
   "execution_count": 5,
   "metadata": {},
   "outputs": [
    {
     "name": "stdout",
     "output_type": "stream",
     "text": [
      "1 2 1\n",
      "1 2 3\n",
      "1 2 4\n",
      "1 3 1\n",
      "1 3 2\n",
      "1 3 4\n",
      "1 4 1\n",
      "1 4 2\n",
      "1 4 3\n",
      "2 1 2\n",
      "2 1 3\n",
      "2 1 4\n",
      "2 3 1\n",
      "2 3 2\n",
      "2 3 4\n",
      "2 4 1\n",
      "2 4 2\n",
      "2 4 3\n",
      "3 1 2\n",
      "3 1 3\n",
      "3 1 4\n",
      "3 2 1\n",
      "3 2 3\n",
      "3 2 4\n",
      "3 4 1\n",
      "3 4 2\n",
      "3 4 3\n",
      "4 1 2\n",
      "4 1 3\n",
      "4 1 4\n",
      "4 2 1\n",
      "4 2 3\n",
      "4 2 4\n",
      "4 3 1\n",
      "4 3 2\n",
      "4 3 4\n"
     ]
    }
   ],
   "source": [
    "##My Answer:\n",
    "\n",
    "sets = [1,2,3,4]\n",
    "for i in range(len(sets)):\n",
    "    num1 = sets[i]\n",
    "    for j in range(len(sets)):\n",
    "        num2 = sets[j]\n",
    "        for k in range(len(sets)):\n",
    "            num3 = sets[k]\n",
    "            if(num1 != num2 != num3):\n",
    "                print(num1,num2,num3)"
   ]
  },
  {
   "cell_type": "code",
   "execution_count": 7,
   "metadata": {},
   "outputs": [
    {
     "name": "stdout",
     "output_type": "stream",
     "text": [
      "1\n",
      "2\n",
      "3\n"
     ]
    }
   ],
   "source": [
    "## SA\n",
    "for i in range(1,5):\n",
    "    for j in range(1,5):\n",
    "        for k in range(1,5):\n",
    "            if (i != k) and (i != j) and (j != k):\n",
    "                print (i,j,k)"
   ]
  },
  {
   "cell_type": "markdown",
   "metadata": {},
   "source": [
    "1.并列条件: and\n",
    "2.允许多个条件同时满足\n",
    "3.查看list中所有元素"
   ]
  },
  {
   "cell_type": "markdown",
   "metadata": {},
   "source": [
    "（二）企业发放的奖金根据利润提成。利润(I)低于或等于10万元时，奖金可提10%；利润高于10万元，低于20万元时，低于10万元的部分按10%提成，高于10万元的部分，可提成7.5%；20万到40万之间时，高于20万元的部分，可提成5%；40万到60万之间时高于40万元的部分，可提成3%；60万到100万之间时，高于60万元的部分，可提成1.5%，高于100万元时，超过100万元的部分按1%提成，从键盘输入当月利润I，求应发放奖金总数？"
   ]
  },
  {
   "cell_type": "code",
   "execution_count": 20,
   "metadata": {},
   "outputs": [
    {
     "name": "stdout",
     "output_type": "stream",
     "text": [
      "输入利润值：9000\n",
      "900.0\n"
     ]
    }
   ],
   "source": [
    "profit = int(input('输入利润值：'))/10000\n",
    "\n",
    "## <10; 10%\n",
    "if profit <= 10:\n",
    "    bonus = profit * 10 / 100\n",
    "## 10-20: 7.5%\n",
    "elif profit <= 20:\n",
    "    bonus = 10*10/100 + (profit- 10)*7.5/ 100\n",
    "## 20-40: 5%\n",
    "elif profit <= 40:\n",
    "    bonus = 10*10/100 + 10*7.5/100 +(profit- 20)*5/ 100 \n",
    "## 40-60: 3%\n",
    "elif profit <= 60:\n",
    "    bonus = 10*10/100 + 10*7.5/100 + 20*5/100 +(profit- 40)*3/ 100 \n",
    "##60-100: 1.5%\n",
    "elif profit <= 100:\n",
    "    bonus = 10*10/100 + 10*7.5/100 + 20*5/100 + 40*3/100 + (profit- 60)*1.5/ 100\n",
    "##>100: 1%\n",
    "else:\n",
    "    bonus = 10*10/100 + 10*7.5/100 + 20*5/100 + 40*3/100 + 40*1.5/100 + (profit- 100)*1/ 100\n",
    "                \n",
    "print(bonus*10000)"
   ]
  },
  {
   "cell_type": "code",
   "execution_count": null,
   "metadata": {},
   "outputs": [],
   "source": [
    "i = int(input('输入你的利润值'))\n",
    "arr = [1000000,600000,400000,200000,100000,0]\n",
    "rat = [0.01,0.015,0.03,0.05,0.075,0.1]\n",
    "result = 0\n",
    "for idx in range(0,6):\n",
    "    if i > arr[idx]:\n",
    "        result += (i-arr[idx])*rat[idx]\n",
    "        i = arr[idx]\n",
    "print (result)"
   ]
  },
  {
   "cell_type": "markdown",
   "metadata": {},
   "source": [
    "1.想明白数据的特征再动手\n",
    "本题中，当利润大于某个阈值后，剩下的奖金是固定的，因此对应同一区间的利润而言，奖金的差异是有在该区间的残留值（减去该区间最低值后）决定的"
   ]
  },
  {
   "cell_type": "markdown",
   "metadata": {},
   "source": [
    "（三）输入三个整数x,y,z，请把这三个数由小到大输出"
   ]
  },
  {
   "cell_type": "code",
   "execution_count": 26,
   "metadata": {},
   "outputs": [
    {
     "name": "stdout",
     "output_type": "stream",
     "text": [
      "the first integer:2\n",
      "the second integer:3\n",
      "the third integer:4\n",
      "2 3 4\n"
     ]
    }
   ],
   "source": [
    "int_1 = int(input('the first integer:'))\n",
    "int_2 = int(input('the second integer:'))\n",
    "int_3 = int(input('the third integer:'))\n",
    "\n",
    "int_min = min(int_1, int_2, int_3)\n",
    "int_max = max(int_1, int_2, int_3)\n",
    "int_medic = {int_1,int_2,int_3}.difference({int_min,int_max})\n",
    "\n",
    "print(int_min, int_medic.pop(), int_max)"
   ]
  },
  {
   "cell_type": "code",
   "execution_count": null,
   "metadata": {},
   "outputs": [],
   "source": [
    "my_list = []\n",
    "for i in range(3):\n",
    "    x = int(input('input : '))\n",
    "    my_list.append(x)\n",
    "my_list.sort(reverse = False)\n",
    "my_list"
   ]
  },
  {
   "cell_type": "markdown",
   "metadata": {},
   "source": [
    "the different way to solve;\n",
    "however, my method only deal with three numbers"
   ]
  },
  {
   "cell_type": "markdown",
   "metadata": {},
   "source": [
    "（四）将一个列表的数据复制到另一个列表中"
   ]
  },
  {
   "cell_type": "code",
   "execution_count": 31,
   "metadata": {},
   "outputs": [
    {
     "data": {
      "text/plain": [
       "[1, 2, 0]"
      ]
     },
     "execution_count": 31,
     "metadata": {},
     "output_type": "execute_result"
    }
   ],
   "source": [
    "list_1 = [1,2,0,4,12,33,7,3,4,5]\n",
    "list_2 = list_1[0:3]\n",
    "list_2"
   ]
  },
  {
   "cell_type": "code",
   "execution_count": null,
   "metadata": {},
   "outputs": [],
   "source": [
    "a = [1,2,3]\n",
    "b = a[:]\n",
    "b"
   ]
  },
  {
   "cell_type": "code",
   "execution_count": null,
   "metadata": {},
   "outputs": [],
   "source": [
    "题可能有问题，考查的是X[：]的使用\n",
    "左开右闭，从0开始"
   ]
  },
  {
   "cell_type": "code",
   "execution_count": null,
   "metadata": {},
   "outputs": [],
   "source": [
    "（五）暂停一秒输出,并格式化当前时间。使用 time 模块的 sleep() 函数。"
   ]
  },
  {
   "cell_type": "code",
   "execution_count": 52,
   "metadata": {},
   "outputs": [
    {
     "name": "stdout",
     "output_type": "stream",
     "text": [
      "2019-03-25 24:19:49\n",
      "2019-03-25 24:19:50\n",
      "2019-03-25 24:19:51\n"
     ]
    }
   ],
   "source": [
    "import time\n",
    "print (time.strftime('%Y-%m-%d %M:%H:%S'))\n",
    "time.sleep(1)\n",
    "print (time.strftime('%Y-%m-%d %M:%H:%S'))\n",
    "time.sleep(1)\n",
    "print (time.strftime('%Y-%m-%d %M:%H:%S'))"
   ]
  },
  {
   "cell_type": "code",
   "execution_count": 46,
   "metadata": {},
   "outputs": [
    {
     "name": "stdout",
     "output_type": "stream",
     "text": [
      "2019-03-25- 19:21:58\n",
      "2019-03-25- 19:21:59\n",
      "2019-03-25- 19:22:00\n"
     ]
    }
   ],
   "source": [
    "import time\n",
    "print (time.strftime('%Y-%m-%d- %H:%M:%S'))\n",
    "\n",
    "time.sleep(1)\n",
    "\n",
    "print (time.strftime('%Y-%m-%d- %H:%M:%S'))\n",
    "\n",
    "time.sleep(1)\n",
    "\n",
    "print (time.strftime('%Y-%m-%d- %H:%M:%S'))"
   ]
  },
  {
   "cell_type": "code",
   "execution_count": 50,
   "metadata": {},
   "outputs": [
    {
     "name": "stdout",
     "output_type": "stream",
     "text": [
      "Help on built-in function strftime in module time:\n",
      "\n",
      "strftime(...)\n",
      "    strftime(format[, tuple]) -> string\n",
      "    \n",
      "    Convert a time tuple to a string according to a format specification.\n",
      "    See the library reference manual for formatting codes. When the time tuple\n",
      "    is not present, current time as returned by localtime() is used.\n",
      "    \n",
      "    Commonly used format codes:\n",
      "    \n",
      "    %Y  Year with century as a decimal number.\n",
      "    %m  Month as a decimal number [01,12].\n",
      "    %d  Day of the month as a decimal number [01,31].\n",
      "    %H  Hour (24-hour clock) as a decimal number [00,23].\n",
      "    %M  Minute as a decimal number [00,59].\n",
      "    %S  Second as a decimal number [00,61].\n",
      "    %z  Time zone offset from UTC.\n",
      "    %a  Locale's abbreviated weekday name.\n",
      "    %A  Locale's full weekday name.\n",
      "    %b  Locale's abbreviated month name.\n",
      "    %B  Locale's full month name.\n",
      "    %c  Locale's appropriate date and time representation.\n",
      "    %I  Hour (12-hour clock) as a decimal number [01,12].\n",
      "    %p  Locale's equivalent of either AM or PM.\n",
      "    \n",
      "    Other codes may be available on your platform.  See documentation for\n",
      "    the C library strftime function.\n",
      "\n"
     ]
    }
   ],
   "source": [
    "help(time.strftime)"
   ]
  },
  {
   "cell_type": "markdown",
   "metadata": {},
   "source": [
    "be careful with the help() information\n",
    "the upcase and lowercase"
   ]
  },
  {
   "cell_type": "markdown",
   "metadata": {},
   "source": [
    "（六）打印出所有的\"水仙花数\"，所谓\"水仙花数\"是指一个三位数，其各位数字立方和等于该数本身。例如：153是一个\"水仙花数\"，因为153=1的三次方＋5的三次方＋3的三次方。"
   ]
  },
  {
   "cell_type": "code",
   "execution_count": 66,
   "metadata": {},
   "outputs": [
    {
     "name": "stdout",
     "output_type": "stream",
     "text": [
      "153\n",
      "370\n",
      "371\n",
      "407\n"
     ]
    }
   ],
   "source": [
    "for i in range(1,10):\n",
    "    for j in range(0,10):\n",
    "        for k in range(0,10):\n",
    "            n = i*100 + j*10 + k\n",
    "            if n == i**3 + j**3 + k**3:\n",
    "                print(n)\n",
    "                "
   ]
  },
  {
   "cell_type": "code",
   "execution_count": null,
   "metadata": {},
   "outputs": [],
   "source": [
    "for x in range(1,10):\n",
    "    for y in range(0,10):\n",
    "        for z in range(0,10):\n",
    "            s1 = x*100+y*10+z\n",
    "            s2 = pow(x,3) + pow(y,3) + pow(z,3)\n",
    "            if s1 == s2:\n",
    "                print (s1)"
   ]
  },
  {
   "cell_type": "code",
   "execution_count": null,
   "metadata": {},
   "outputs": [],
   "source": [
    "range(x,y) \n",
    "x 可取，y不可取\n",
    "左开右闭"
   ]
  },
  {
   "cell_type": "code",
   "execution_count": null,
   "metadata": {},
   "outputs": [],
   "source": [
    "（七）输入一行字符，分别统计出其中英文字母、空格、数字和其它字符的个数"
   ]
  },
  {
   "cell_type": "code",
   "execution_count": 83,
   "metadata": {},
   "outputs": [
    {
     "name": "stdout",
     "output_type": "stream",
     "text": [
      "df11`\"\"33ff1\n",
      "char = 4, space = 0, digit = 5, other = 3\n"
     ]
    }
   ],
   "source": [
    "inputs = input()\n",
    "\n",
    "charact = 0\n",
    "num = 0\n",
    "space = 0\n",
    "other = 0\n",
    "\n",
    "for i in inputs:\n",
    "    if i.isalpha():\n",
    "        charact += 1\n",
    "    elif i.isdigit():\n",
    "        num += 1\n",
    "    elif i.isspace():\n",
    "        space += 1\n",
    "    else:\n",
    "        other += 1\n",
    "        \n",
    "print('char = %d, space = %d, digit = %d, other = %d' % (charact, space, num, other))"
   ]
  },
  {
   "cell_type": "markdown",
   "metadata": {},
   "source": [
    "XX.isxxxx \n",
    "很多用法需要学习，多看多练"
   ]
  },
  {
   "cell_type": "code",
   "execution_count": null,
   "metadata": {},
   "outputs": [],
   "source": [
    "（八）一球从100米高度自由落下，每次落地后反跳回原高度的一半；再落下，求它在第10次落地时，共经过多少米？第10次反弹多高？"
   ]
  },
  {
   "cell_type": "code",
   "execution_count": 86,
   "metadata": {},
   "outputs": [
    {
     "name": "stdout",
     "output_type": "stream",
     "text": [
      "0.09765625\n",
      "199.8046875\n"
     ]
    }
   ],
   "source": [
    "h = 100\n",
    "time = 10\n",
    "height = []\n",
    "\n",
    "for i in range(2,time+1):\n",
    "    h /=2\n",
    "    height.append(h)\n",
    "    \n",
    "print(min(height)/2)\n",
    "print(sum(height) + 100)"
   ]
  },
  {
   "cell_type": "markdown",
   "metadata": {},
   "source": [
    "新奇脑洞\n",
    "10次落地，除第一次下落，其余为九个等距来回"
   ]
  }
 ],
 "metadata": {
  "kernelspec": {
   "display_name": "Python 3",
   "language": "python",
   "name": "python3"
  },
  "language_info": {
   "codemirror_mode": {
    "name": "ipython",
    "version": 3
   },
   "file_extension": ".py",
   "mimetype": "text/x-python",
   "name": "python",
   "nbconvert_exporter": "python",
   "pygments_lexer": "ipython3",
   "version": "3.7.0"
  }
 },
 "nbformat": 4,
 "nbformat_minor": 2
}
